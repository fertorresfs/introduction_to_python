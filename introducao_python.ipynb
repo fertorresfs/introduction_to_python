{
  "nbformat": 4,
  "nbformat_minor": 0,
  "metadata": {
    "colab": {
      "provenance": [],
      "authorship_tag": "ABX9TyO5XQeLY6mCp61aMMtpn2WM",
      "include_colab_link": true
    },
    "kernelspec": {
      "name": "python3",
      "display_name": "Python 3"
    },
    "language_info": {
      "name": "python"
    }
  },
  "cells": [
    {
      "cell_type": "markdown",
      "metadata": {
        "id": "view-in-github",
        "colab_type": "text"
      },
      "source": [
        "<a href=\"https://colab.research.google.com/github/fertorresfs/introduction_to_python/blob/master/introducao_python.ipynb\" target=\"_parent\"><img src=\"https://colab.research.google.com/assets/colab-badge.svg\" alt=\"Open In Colab\"/></a>"
      ]
    },
    {
      "cell_type": "markdown",
      "source": [
        "# Introdução ao Python\n",
        "\n",
        "Este repositório oferece uma introdução à linguagem de programação Python para iniciantes absolutos.  Aqui você encontrará os conceitos básicos, exemplos práticos e exercícios para começar a programar em Python."
      ],
      "metadata": {
        "id": "191qkU9LTRlI"
      }
    },
    {
      "cell_type": "markdown",
      "source": [
        "## O que é Python?\n",
        "\n",
        "Python é uma linguagem de programação popular criada por Guido van Rossum e lançada em 1991.  Ela é conhecida por sua sintaxe clara e legível, tornando-a uma ótima escolha para iniciantes.\n",
        "\n",
        "Python é usada para:\n",
        "\n",
        "* Desenvolvimento web (lado do servidor)\n",
        "* Desenvolvimento de software\n",
        "* Matemática e computação científica\n",
        "* Automação de tarefas e scripts de sistema"
      ],
      "metadata": {
        "id": "WEzULdpFTasU"
      }
    },
    {
      "cell_type": "markdown",
      "source": [
        "## O que Python pode fazer?\n",
        "\n",
        "* **Criar aplicações web:** Python pode ser usado em servidores para criar aplicações web dinâmicas e interativas.\n",
        "* **Automatizar tarefas:** Python pode automatizar tarefas repetitivas, como manipulação de arquivos, envio de emails e interação com sistemas.\n",
        "* **Analisar dados:** Python possui bibliotecas poderosas para análise de dados, como Pandas e NumPy.\n",
        "* **Machine Learning:** Python é amplamente utilizado em Machine Learning, com bibliotecas como Scikit-learn e TensorFlow.\n",
        "* **Criar protótipos:** A sintaxe simples do Python permite a criação rápida de protótipos de software.\n"
      ],
      "metadata": {
        "id": "fKiqnp0cTeGl"
      }
    },
    {
      "cell_type": "markdown",
      "source": [
        "## Por que Python?\n",
        "\n",
        "* **Multiplataforma:** Python funciona em diferentes sistemas operacionais (Windows, macOS, Linux).\n",
        "* **Sintaxe simples:** A sintaxe do Python é semelhante ao inglês, facilitando o aprendizado.\n",
        "* **Comunidade ativa:** Python possui uma grande comunidade ativa, que oferece suporte e recursos para programadores de todos os níveis.\n",
        "* **Versátil:** Python pode ser usada para uma variedade de tarefas, desde desenvolvimento web até análise de dados e Machine Learning."
      ],
      "metadata": {
        "id": "Lxr85uWGTgyz"
      }
    },
    {
      "cell_type": "markdown",
      "source": [
        "## Instalação do Python\n",
        "\n",
        "A maioria dos computadores já vem com o Python instalado. Para verificar se você tem o Python instalado, abra o terminal ou prompt de comando e digite:\n",
        "\n",
        "Obs: Este notebook estou executando via Google Colab, neste ambiente preciso colocar <b>!</b> antes do commando, se vc utilizar em outro ambiente não precise colocar <b>!</b> antes do comando"
      ],
      "metadata": {
        "id": "zsocdAQPTkH_"
      }
    },
    {
      "cell_type": "code",
      "execution_count": 2,
      "metadata": {
        "colab": {
          "base_uri": "https://localhost:8080/"
        },
        "id": "UlrTP_ZUTPgU",
        "outputId": "7329bad9-03d4-4875-f7f0-38b9a3ad2781"
      },
      "outputs": [
        {
          "output_type": "stream",
          "name": "stdout",
          "text": [
            "Python 3.10.12\n"
          ]
        }
      ],
      "source": [
        "!python --version"
      ]
    },
    {
      "cell_type": "markdown",
      "source": [
        "Se o Python não estiver instalado, você pode baixá-lo gratuitamente em https://www.python.org/.\n",
        "\n",
        "Começando com Python\n",
        "Python é uma linguagem interpretada. Isso significa que você escreve o código em arquivos .py e os executa usando o interpretador Python.\n",
        "\n",
        "Para executar um arquivo Python, abra o terminal, navegue até o diretório onde o arquivo está salvo e digite:"
      ],
      "metadata": {
        "id": "eAusD5PxUa8J"
      }
    },
    {
      "cell_type": "code",
      "source": [
        "!echo \"print('Olá, Mundo!')\" > intro_python.py"
      ],
      "metadata": {
        "id": "Mg2ssElPcfJW"
      },
      "execution_count": 10,
      "outputs": []
    },
    {
      "cell_type": "code",
      "source": [
        "!python intro_python.py"
      ],
      "metadata": {
        "colab": {
          "base_uri": "https://localhost:8080/"
        },
        "id": "V0FSHK_OUdxz",
        "outputId": "dddbab99-2718-4776-9742-6f6e215612bd"
      },
      "execution_count": 11,
      "outputs": [
        {
          "output_type": "stream",
          "name": "stdout",
          "text": [
            "Olá, Mundo!\n"
          ]
        }
      ]
    },
    {
      "cell_type": "markdown",
      "source": [
        "## A linha de comando do Python\n",
        "Você também pode executar código Python diretamente na linha de comando. Para abrir o interpretador Python, digite python no terminal. A partir daí, você pode digitar comandos Python e executá-los imediatamente. Para sair do interpretador, digite exit().\n",
        "\n",
        "### Próximos passos\n",
        "Explore os exemplos: Este repositório contém exemplos de código Python em arquivos separados.\n",
        "\n",
        "Faça os exercícios: Pratique seus conhecimentos com os exercícios propostos.\n",
        "\n",
        "<b>Consulte a documentação oficial: https://docs.python.org/pt-br/3/</b>\n",
        "\n",
        "Junte-se à comunidade: Encontre outros entusiastas de Python em fóruns, grupos de discussão e comunidades online.\n",
        "\n",
        "Entre agora e faça parte da nossa comunidade! https://discord.gg/7HhwtwhW"
      ],
      "metadata": {
        "id": "xw2lMOLlbXl2"
      }
    }
  ]
}